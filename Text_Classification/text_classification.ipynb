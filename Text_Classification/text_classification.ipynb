{
 "cells": [
  {
   "cell_type": "code",
   "execution_count": 1,
   "metadata": {},
   "outputs": [],
   "source": [
    "import nltk\n",
    "import string\n",
    "import pandas as pd \n",
    "import csv\n",
    "\n",
    "from nltk.corpus import gutenberg\n",
    "from sklearn.linear_model import SGDClassifier\n",
    "from sklearn.pipeline import Pipeline\n",
    "from nltk.stem.snowball import SnowballStemmer\n",
    "from sklearn.feature_extraction.text import CountVectorizer\n",
    "from sklearn.model_selection import train_test_split\n",
    "\n",
    "#For converting all the words to stem words in lowercase\n",
    "snowball_stemmer = SnowballStemmer('english', ignore_stopwords=True)\n",
    "punctRemover=str.maketrans('','',string.punctuation)\n",
    "\n",
    "X = [] #To store actual text of the author\n",
    "Y = [] #To store author name\n",
    "\n",
    "innerStr = \" \"\n",
    "strToAppend= \" \"\n",
    "\n",
    "austen = gutenberg.sents('austen-emma.txt') # can choose another author name from the available choices\n",
    "chester = gutenberg.sents('chesterton-thursday.txt')\n",
    "\n",
    "#To remove the punctuation\n",
    "punctRemover=str.maketrans('','',string.punctuation)\n",
    "\n",
    "for row in austen:\n",
    "    if row:\n",
    "        innerStr = ' '.join([str(elem) for elem in row]) #convert the list to single string\n",
    "        X.append(innerStr.translate(punctRemover))\n",
    "        Y.append('austen')\n",
    "        \n",
    "for row in chester:\n",
    "    if row:\n",
    "        innerStr = ' '.join([str(elem) for elem in row]) #convert the list to single string\n",
    "        X.append(innerStr.translate(punctRemover))\n",
    "        Y.append('chester') \n",
    "\n",
    "X_train, X_test = train_test_split(X, test_size = 0.2)#split into training and test set\n",
    "Y_train, Y_test = train_test_split(Y, test_size = 0.2)# to make sure the label size remains same"
   ]
  },
  {
   "cell_type": "code",
   "execution_count": 2,
   "metadata": {},
   "outputs": [],
   "source": [
    "#To obtain binary document-term matrix\n",
    "binary_vect = CountVectorizer(stop_words='english', binary=True)\n",
    "X_train_binary = binary_vect.fit_transform(X_train)\n",
    "\n",
    "X_train_array = X_train_binary.toarray()\n",
    "df = pd.DataFrame(X_train_array[0:10])\n",
    "df.columns = binary_vect.get_feature_names()\n",
    "\n",
    "#To export binary document-term matrix as csv file\n",
    "df.to_csv('binary_document_term_matrix.csv')\n",
    "\n",
    "#Training logistic classifier SVM with the author as target stored in Y_Train.\n",
    "binary_clf = Pipeline([('vect', binary_vect), \n",
    "                       ('clf-svm', SGDClassifier(loss='hinge', penalty='l2',alpha=1e-3, max_iter=50, random_state=42))])\n",
    "binary_clf = binary_clf.fit(X_train, Y_train)"
   ]
  },
  {
   "cell_type": "code",
   "execution_count": 3,
   "metadata": {},
   "outputs": [],
   "source": [
    "#To obtain document-term matrix of counts\n",
    "count_vect = CountVectorizer(stop_words='english')\n",
    "X_train_count = count_vect.fit_transform(X_train)\n",
    "X_train_count_array = X_train_count.toarray()\n",
    "\n",
    "df = pd.DataFrame(X_train_count_array[0:10])\n",
    "df.columns = count_vect.get_feature_names()\n",
    "\n",
    "#To export document-term matrix of counts as csv file\n",
    "df.to_csv('document_term_matrix_of_counts.csv')\n",
    "\n",
    "#Training logistic classifier SVM with the author as target stored in Y_Train.\n",
    "count_clf = Pipeline([('vect', count_vect), ('clf-svm', SGDClassifier(loss='hinge', penalty='l2',alpha=1e-3, max_iter=50, random_state=42))])\n",
    "count_clf = count_clf.fit(X_train, Y_train)"
   ]
  },
  {
   "cell_type": "code",
   "execution_count": 4,
   "metadata": {},
   "outputs": [],
   "source": [
    "#To obtain tfidf matrix of counts\n",
    "from sklearn.feature_extraction.text import TfidfTransformer\n",
    "tfidf_vect = CountVectorizer()\n",
    "X_train_counts = tfidf_vect.fit_transform(X_train)\n",
    "\n",
    "tfidf_transformer = TfidfTransformer()\n",
    "X_train_tfidf = tfidf_transformer.fit_transform(X_train_counts)\n",
    "\n",
    "X_train_tfidf_array = X_train_tfidf.toarray()\n",
    "df = pd.DataFrame(X_train_tfidf_array[0:10])\n",
    "df.columns = tfidf_vect.get_feature_names()\n",
    "\n",
    "#To export document-tfidf matrix as csv file\n",
    "df.to_csv('document_tfidf_matrix.csv')\n",
    "\n",
    "#Training logistic classifier SVM with the author as target stored in Y_Train.\n",
    "tfidf_clf = Pipeline([('vect', tfidf_vect), ('tf-idf', tfidf_transformer), ('clf-svm', SGDClassifier(loss='hinge', penalty='l2',alpha=1e-3, max_iter=50, random_state=42))])\n",
    "tfidf_clf = tfidf_clf.fit(X_train, Y_train)"
   ]
  },
  {
   "cell_type": "code",
   "execution_count": 5,
   "metadata": {},
   "outputs": [
    {
     "name": "stdout",
     "output_type": "stream",
     "text": [
      "Accuracy from binary document-term matix:  66.68116572422792 %\n",
      "Accuracy from document-term matrix of counts:  66.42018268812528 %\n",
      "Accuracy from tf-idf scores document-term matrix:  67.11613745106568 %\n"
     ]
    }
   ],
   "source": [
    "#To predict the classification with the three models on the test data\n",
    "import numpy as np\n",
    "#binary document term matrix predictor from question 5a\n",
    "y_binaryPredictor = binary_clf.predict(X_test)\n",
    "print('Accuracy from binary document-term matix: ', 100* np.mean(y_binaryPredictor == Y_test), \"%\")\n",
    "\n",
    "#document term matrix predictor with count from question 5b\n",
    "y_countPredictor = count_clf.predict(X_test)\n",
    "print('Accuracy from document-term matrix of counts: ', 100* np.mean(y_countPredictor == Y_test), \"%\")\n",
    "\n",
    "#document matrix predictor with tdidf from question 5c\n",
    "y_tfidfPredictor = tfidf_clf.predict(X_test)\n",
    "print('Accuracy from tf-idf scores document-term matrix: ', 100* np.mean(y_tfidfPredictor == Y_test), \"%\")"
   ]
  },
  {
   "cell_type": "code",
   "execution_count": 6,
   "metadata": {},
   "outputs": [
    {
     "name": "stdout",
     "output_type": "stream",
     "text": [
      "Confusion Matrix for Document Term-Matrix Binary model:\n",
      "[[1523   20]\n",
      " [ 746   10]]\n",
      "\n",
      "Confusion Matrix for Document Term-Matrix Count model:\n",
      "[[1518   25]\n",
      " [ 747    9]]\n",
      "\n",
      "Confusion Matrix for Document_Term-Matrix Tfidf model:\n",
      "[[1543    0]\n",
      " [ 756    0]]\n"
     ]
    }
   ],
   "source": [
    "#To obtaining the confusion matrices for the three different models.\n",
    "from sklearn.metrics import confusion_matrix\n",
    "print('Confusion Matrix for Document Term-Matrix Binary model:')\n",
    "results = confusion_matrix(Y_test, y_binaryPredictor) \n",
    "print(results) \n",
    "\n",
    "print('\\nConfusion Matrix for Document Term-Matrix Count model:')\n",
    "results = confusion_matrix(Y_test, y_countPredictor) \n",
    "print(results) \n",
    "\n",
    "print('\\nConfusion Matrix for Document_Term-Matrix Tfidf model:')\n",
    "results = confusion_matrix(Y_test, y_tfidfPredictor) \n",
    "print(results) "
   ]
  },
  {
   "cell_type": "code",
   "execution_count": 7,
   "metadata": {},
   "outputs": [
    {
     "name": "stdout",
     "output_type": "stream",
     "text": [
      "Binary document-term matix logistic classifier:\n",
      " Testing accuracy 0.6668116572422792\n",
      " Testing F1 score: 0.5446626591533111\n",
      "\n",
      "Document-term matrix of counts logistic classifier:\n",
      " Testing accuracy 0.6642018268812527\n",
      " Testing F1 score: 0.5425886214986708\n",
      "\n",
      "Tdidf score Document-term matrix logistic classifier:\n",
      " Testing accuracy 0.6711613745106568\n",
      " Testing F1 score: 0.5390952633367743\n"
     ]
    }
   ],
   "source": [
    "#To obtaining accuracy and f1-score for the three different models.\n",
    "from sklearn.metrics import accuracy_score, f1_score\n",
    "\n",
    "print('Binary document-term matix logistic classifier:')\n",
    "print(' Testing accuracy %s' % accuracy_score(Y_test, y_binaryPredictor))\n",
    "print(' Testing F1 score: {}'.format(f1_score(Y_test, y_binaryPredictor, average='weighted')))\n",
    "\n",
    "print('\\nDocument-term matrix of counts logistic classifier:')\n",
    "print(' Testing accuracy %s' % accuracy_score(Y_test, y_countPredictor))\n",
    "print(' Testing F1 score: {}'.format(f1_score(Y_test, y_countPredictor, average='weighted')))\n",
    "\n",
    "print('\\nTdidf score Document-term matrix logistic classifier:')\n",
    "print(' Testing accuracy %s' % accuracy_score(Y_test, y_tfidfPredictor))\n",
    "print(' Testing F1 score: {}'.format(f1_score(Y_test, y_tfidfPredictor, average='weighted')))"
   ]
  }
 ],
 "metadata": {
  "kernelspec": {
   "display_name": "Python 3",
   "language": "python",
   "name": "python3"
  },
  "language_info": {
   "codemirror_mode": {
    "name": "ipython",
    "version": 3
   },
   "file_extension": ".py",
   "mimetype": "text/x-python",
   "name": "python",
   "nbconvert_exporter": "python",
   "pygments_lexer": "ipython3",
   "version": "3.7.1"
  }
 },
 "nbformat": 4,
 "nbformat_minor": 4
}
